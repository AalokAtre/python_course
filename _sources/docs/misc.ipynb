{
 "cells": [
  {
   "attachments": {},
   "cell_type": "markdown",
   "metadata": {},
   "source": [
    "# Miscellaneous Info"
   ]
  },
  {
   "attachments": {},
   "cell_type": "markdown",
   "metadata": {},
   "source": [
    "## Difference between machine learning and data science\n",
    "\n",
    "The output of a machine learning project is an AI model that results in some application, (e.g predicting the price of home based on certain inputs), whereas a data science project is something that results in insights generations (e.g If a house is renovated within the last 2 years it commands a 15% price premium on average when being sold)\n",
    "\n",
    "A more formal definition would be \"Machine learning is the field of study that gives computers the ability to learn without being explicitly programmed\" whereas \"Data science is the science of extracting knowledge and insights from data\""
   ]
  },
  {
   "attachments": {},
   "cell_type": "markdown",
   "metadata": {},
   "source": [
    "## What is deep learning\n",
    "\n",
    "A type of machine learning based on artificial neural networks in which multiple layers of processing are used to extract progressively higher level features from data."
   ]
  },
  {
   "cell_type": "markdown",
   "metadata": {},
   "source": []
  }
 ],
 "metadata": {
  "language_info": {
   "name": "python"
  },
  "orig_nbformat": 4
 },
 "nbformat": 4,
 "nbformat_minor": 2
}
