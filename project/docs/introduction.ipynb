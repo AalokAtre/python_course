{
 "cells": [
  {
   "cell_type": "markdown",
   "metadata": {},
   "source": [
    "# Introduction to python"
   ]
  },
  {
   "cell_type": "markdown",
   "metadata": {},
   "source": [
    "## Data types and concatenation"
   ]
  },
  {
   "cell_type": "code",
   "execution_count": 1,
   "metadata": {},
   "outputs": [
    {
     "name": "stdout",
     "output_type": "stream",
     "text": [
      "Body mass index for the given height and weight is 21.44127836209856\n"
     ]
    }
   ],
   "source": [
    "height = 1.79 # Height in meters\n",
    "weight = 68.7 # Weight in kilograms\n",
    "bmi = weight / (height ** 2) # Calculating body mass index\n",
    "day_in_week = 7\n",
    "x = \"Body mass index for the given height and weight is\"\n",
    "print(x + ' ' + str(bmi))"
   ]
  },
  {
   "cell_type": "code",
   "execution_count": 2,
   "metadata": {},
   "outputs": [
    {
     "data": {
      "text/plain": [
       "float"
      ]
     },
     "execution_count": 2,
     "metadata": {},
     "output_type": "execute_result"
    }
   ],
   "source": [
    "type(bmi)"
   ]
  },
  {
   "cell_type": "markdown",
   "metadata": {},
   "source": [
    "## Python Lists"
   ]
  },
  {
   "cell_type": "code",
   "execution_count": 2,
   "metadata": {},
   "outputs": [
    {
     "name": "stdout",
     "output_type": "stream",
     "text": [
      "[[1.73, 1.68, 1.71, 1.89], ['Liz', 1.73, 'emma', 1.68, 'mom', 1.71, 'dad', 1.89]]\n",
      "dad\n",
      "[1.68, 'mom']\n"
     ]
    }
   ],
   "source": [
    "fam = [1.73, 1.68, 1.71, 1.89]\n",
    "fam2 = [\"Liz\", 1.73, \"emma\", 1.68, \"mom\", 1.71, \"dad\", 1.89]\n",
    "fam\n",
    "new_list = [fam, fam2]\n",
    "print(new_list)\n",
    "print(fam2[6]) # selecting elements from list\n",
    "print(fam2[3:5])# slicing elements of list, end is not included"
   ]
  },
  {
   "cell_type": "code",
   "execution_count": 4,
   "metadata": {},
   "outputs": [
    {
     "name": "stdout",
     "output_type": "stream",
     "text": [
      "9.5\n",
      "['hallway', 11.25, 'kitchen', 18.0]\n",
      "28.75\n"
     ]
    }
   ],
   "source": [
    "areas = [\"hallway\", 11.25, \"kitchen\", 18.0, \"living room\", 20.0, \"bedroom\", 10.75, \"bathroom\", 9.50]\n",
    "print(areas[-1]) #return a value using negative index\n",
    "print(areas[0:4]) # returns the first four elements, note element with index 4 is not inlcluded\n",
    "print(areas[3] + areas[-3]) #return sum of kitchen and bedroom areas"
   ]
  },
  {
   "cell_type": "code",
   "execution_count": 5,
   "metadata": {},
   "outputs": [
    {
     "name": "stdout",
     "output_type": "stream",
     "text": [
      "['hallway', 11.25, 'kitchen', 18.0, 'living room', 20.0]\n",
      "['bedroom', 10.75, 'bathroom', 9.5]\n"
     ]
    }
   ],
   "source": [
    "areas = [\"hallway\", 11.25, \"kitchen\", 18.0, \"living room\", 20.0, \"bedroom\", 10.75, \"bathroom\", 9.50]\n",
    "print(areas[0:6]) # slice the first six elements of the list\n",
    "print(areas[-4:]) # slice the last 4 elements of the list"
   ]
  },
  {
   "cell_type": "code",
   "execution_count": 6,
   "metadata": {},
   "outputs": [
    {
     "name": "stdout",
     "output_type": "stream",
     "text": [
      "['Liz', 1.73, 'emma', 1.68, 'mom', 1.71, 'dad', 1.89]\n",
      "['Liz', 1.73, 'emma', 1.68, 'mom', 1.71, 'dad', 1.86]\n",
      "['lisa', 1.74, 'emma', 1.68, 'mom', 1.71, 'dad', 1.86]\n"
     ]
    }
   ],
   "source": [
    "fam2 = [\"Liz\", 1.73, \"emma\", 1.68, \"mom\", 1.71, \"dad\", 1.89]\n",
    "print(fam2)\n",
    "fam2[7] = 1.86\n",
    "print(fam2)\n",
    "fam2[0:2] = [\"lisa\", 1.74]\n",
    "print(fam2)"
   ]
  },
  {
   "cell_type": "code",
   "execution_count": 7,
   "metadata": {},
   "outputs": [
    {
     "name": "stdout",
     "output_type": "stream",
     "text": [
      "['lisa', 1.74, 'emma', 1.68, 'mom', 1.71, 'dad', 1.86]\n",
      "['lisa', 1.74, 'emma', 1.68, 'mom', 1.71, 'dad', 1.86, 'me', 1.79]\n",
      "['lisa', 1.74, 1.68, 'mom', 1.71, 'dad', 1.86, 'me', 1.79]\n"
     ]
    }
   ],
   "source": [
    "print(fam2)\n",
    "fam2_ext = fam2 + [\"me\", 1.79]\n",
    "print(fam2_ext)\n",
    "del(fam2_ext[2]) #note here that indexes of the elements will change after you delete the elements\n",
    "print(fam2_ext)"
   ]
  },
  {
   "cell_type": "code",
   "execution_count": 8,
   "metadata": {},
   "outputs": [
    {
     "name": "stdout",
     "output_type": "stream",
     "text": [
      "['a', 'b', 'c', 'd']\n",
      "['a', 'z', 'c', 'd']\n",
      "['a', 'z', 'c', 'd']\n",
      "['a', 'b', 'c', 'd']\n"
     ]
    }
   ],
   "source": [
    "x = ['a','b','c','d']\n",
    "# y = x\n",
    "# print(y)\n",
    "# y[1] = 'z'\n",
    "# print(y)\n",
    "print (x) # Note 'b' in x is also changed, that is because x is a reference to the list which was copied to y. So when you manipulate the list\n",
    "# using y it changes the main list\n",
    "# To avoid this you need to use the list function or use slicing to copy the values and not the reference\n",
    "y= list(x)\n",
    "y[1] = 'z'\n",
    "print(y)\n",
    "y = x[:]\n",
    "y[1] = 'z'\n",
    "print(y)\n",
    "print(x)"
   ]
  },
  {
   "cell_type": "code",
   "execution_count": 9,
   "metadata": {},
   "outputs": [
    {
     "name": "stdout",
     "output_type": "stream",
     "text": [
      "['hallway', 11.25, 'kitchen', 18.0, 'living room', 20.0, 'bedroom', 10.75, 'bathroom', 9.5]\n",
      "['hallway', 11.25, 'kitchen', 18.0, 'chill zone', 20.0, 'bedroom', 10.75, 'bathroom', 10.5]\n"
     ]
    }
   ],
   "source": [
    "areas = [\"hallway\", 11.25, \"kitchen\", 18.0, \"living room\", 20.0, \"bedroom\", 10.75, \"bathroom\", 9.50]\n",
    "print(areas)\n",
    "areas[-1] = 10.50\n",
    "areas[4] = \"chill zone\"\n",
    "print(areas)"
   ]
  },
  {
   "cell_type": "code",
   "execution_count": 44,
   "metadata": {},
   "outputs": [
    {
     "name": "stdout",
     "output_type": "stream",
     "text": [
      "['hallway', 11.25, 'kitchen', 18.0, 'chill zone', 20.0, 'bedroom', 10.75, 'bathroom', 10.5]\n",
      "['hallway', 11.25, 'kitchen', 18.0, 'chill zone', 20.0, 'bedroom', 10.75, 'bathroom', 10.5, 'poolhouse', 24.5]\n",
      "['hallway', 11.25, 'kitchen', 18.0, 'chill zone', 20.0, 'bedroom', 10.75, 'bathroom', 10.5, 'poolhouse', 24.5, 'garage', 15.45]\n"
     ]
    }
   ],
   "source": [
    "areas = [\"hallway\", 11.25, \"kitchen\", 18.0, \"chill zone\", 20.0, \"bedroom\", 10.75, \"bathroom\", 10.50]\n",
    "print(areas)\n",
    "areas_1 = areas + [\"poolhouse\", 24.5]\n",
    "print(areas_1)\n",
    "areas_2 = areas_1 + [\"garage\", 15.45]\n",
    "print(areas_2)"
   ]
  },
  {
   "cell_type": "code",
   "execution_count": 10,
   "metadata": {},
   "outputs": [
    {
     "name": "stdout",
     "output_type": "stream",
     "text": [
      "[11.25, 18.0, 20.0, 10.75, 9.5]\n",
      "[0.5, 18.0, 20.0, 10.75, 9.5]\n",
      "[11.25, 18.0, 20.0, 10.75, 9.5]\n"
     ]
    }
   ],
   "source": [
    "# Copying lists\n",
    "areas = [11.25, 18.0, 20.0, 10.75, 9.50]\n",
    "print(areas)\n",
    "areas_copy = areas\n",
    "areas_copy[0] = 0.5\n",
    "print(areas) # since areas_copy = areas only adds reference to original list, any change to new list will update the original one\n",
    "# To avoid this make we use the list function or the cpy function\n",
    "areas = [11.25, 18.0, 20.0, 10.75, 9.50]\n",
    "areas_copy2 = list(areas)\n",
    "areas_copy[0] = 0.5\n",
    "print(areas)"
   ]
  },
  {
   "cell_type": "markdown",
   "metadata": {},
   "source": [
    "## Python Functions"
   ]
  },
  {
   "cell_type": "code",
   "execution_count": 11,
   "metadata": {},
   "outputs": [
    {
     "name": "stdout",
     "output_type": "stream",
     "text": [
      "1.89\n",
      "1.7\n",
      "Help on built-in function round in module builtins:\n",
      "\n",
      "round(number, ndigits=None)\n",
      "    Round a number to a given precision in decimal digits.\n",
      "    \n",
      "    The return value is an integer if ndigits is omitted or None.  Otherwise\n",
      "    the return value has the same type as the number.  ndigits may be negative.\n",
      "\n"
     ]
    }
   ],
   "source": [
    "fam = [1.73, 1.68, 1.71, 1.89]\n",
    "print(max(fam))\n",
    "print(round(fam[2],1))\n",
    "help(round)\n"
   ]
  },
  {
   "cell_type": "code",
   "execution_count": 14,
   "metadata": {},
   "outputs": [
    {
     "name": "stdout",
     "output_type": "stream",
     "text": [
      "Help on built-in function sorted in module builtins:\n",
      "\n",
      "sorted(iterable, /, *, key=None, reverse=False)\n",
      "    Return a new list containing all items from the iterable in ascending order.\n",
      "    \n",
      "    A custom key function can be supplied to customize the sort order, and the\n",
      "    reverse flag can be set to request the result in descending order.\n",
      "\n",
      "[1.28, 1.87, 1.63, 1.21, 1.52, 1.42, 1.35, 1.78, 1.11]\n",
      "[1.87, 1.78, 1.63, 1.52, 1.42, 1.35, 1.28, 1.21, 1.11]\n"
     ]
    }
   ],
   "source": [
    "help(sorted)\n",
    "fam = [1.28, 1.87, 1.63, 1.21, 1.52]\n",
    "fam2 = [1.42, 1.35, 1.78, 1.11]\n",
    "full = fam + fam2\n",
    "print(full)\n",
    "print(sorted(full, reverse=True))"
   ]
  },
  {
   "cell_type": "markdown",
   "metadata": {},
   "source": [
    "## Methods\n",
    "Methods are functions that are associated with a specific object"
   ]
  },
  {
   "cell_type": "code",
   "execution_count": 23,
   "metadata": {},
   "outputs": [
    {
     "name": "stdout",
     "output_type": "stream",
     "text": [
      "4\n",
      "2\n"
     ]
    }
   ],
   "source": [
    "fam = [\"Liz\", 1.71, \"emma\", 1.68, \"mom\", 1.71, \"dad\", 1.89]\n",
    "print(fam.index(\"mom\"))\n",
    "print(fam.count(1.71))"
   ]
  },
  {
   "cell_type": "code",
   "execution_count": 24,
   "metadata": {},
   "outputs": [
    {
     "data": {
      "text/plain": [
       "['Liz', 1.71, 'emma', 1.68, 'mom', 1.71, 'dad', 1.89, 'Me', 1.89]"
      ]
     },
     "execution_count": 24,
     "metadata": {},
     "output_type": "execute_result"
    }
   ],
   "source": [
    "fam.append(\"Me\")\n",
    "fam.append(1.89)\n",
    "fam"
   ]
  },
  {
   "attachments": {},
   "cell_type": "markdown",
   "metadata": {},
   "source": [
    "## Packages"
   ]
  },
  {
   "attachments": {},
   "cell_type": "markdown",
   "metadata": {},
   "source": [
    "Packages are directory of python scripts which can be also considered as modules. E.g. Numpy to work with arrays, matplotlib for data visulization and sickit learn for machine learning"
   ]
  },
  {
   "cell_type": "code",
   "execution_count": 6,
   "metadata": {},
   "outputs": [
    {
     "data": {
      "text/plain": [
       "array([1, 2, 3])"
      ]
     },
     "execution_count": 6,
     "metadata": {},
     "output_type": "execute_result"
    }
   ],
   "source": [
    "import numpy\n",
    "numpy.array([1,2,3])"
   ]
  },
  {
   "attachments": {},
   "cell_type": "markdown",
   "metadata": {},
   "source": [
    "Writing numpy (or other package names) all the time can be tiring. To solve this you can import the package with a different name and refer to it using the prefix you specify as below."
   ]
  },
  {
   "cell_type": "code",
   "execution_count": 63,
   "metadata": {},
   "outputs": [
    {
     "data": {
      "text/plain": [
       "array([1, 2, 3])"
      ]
     },
     "execution_count": 63,
     "metadata": {},
     "output_type": "execute_result"
    }
   ],
   "source": [
    "import numpy as np\n",
    "np.array([1,2,3])"
   ]
  },
  {
   "attachments": {},
   "cell_type": "markdown",
   "metadata": {},
   "source": [
    "Using only a specific function from the package is also possible, as shown below. However this reduces the readability of the code as the script becomes longer"
   ]
  },
  {
   "cell_type": "code",
   "execution_count": 64,
   "metadata": {},
   "outputs": [
    {
     "data": {
      "text/plain": [
       "array([1, 2, 3])"
      ]
     },
     "execution_count": 64,
     "metadata": {},
     "output_type": "execute_result"
    }
   ],
   "source": [
    "from numpy import array\n",
    "array([1,2,3])\n",
    "# you can make it easier to read by doing something like this\n",
    "from numpy import array as nparray\n",
    "nparray([1,2,3])"
   ]
  }
 ],
 "metadata": {
  "kernelspec": {
   "display_name": "Python 3.9.2 64-bit ('3.9.2')",
   "language": "python",
   "name": "python3"
  },
  "language_info": {
   "codemirror_mode": {
    "name": "ipython",
    "version": 3
   },
   "file_extension": ".py",
   "mimetype": "text/x-python",
   "name": "python",
   "nbconvert_exporter": "python",
   "pygments_lexer": "ipython3",
   "version": "3.9.2"
  },
  "orig_nbformat": 4,
  "vscode": {
   "interpreter": {
    "hash": "b3026a12acffdc9f506c0823b05e249d31fb04335d3c4999ca8eadedea0b2708"
   }
  }
 },
 "nbformat": 4,
 "nbformat_minor": 2
}
